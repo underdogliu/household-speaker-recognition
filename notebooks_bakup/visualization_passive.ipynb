{
 "cells": [
  {
   "cell_type": "code",
   "execution_count": 1,
   "id": "f1e2b572-0725-4415-83b9-2dff9459eebd",
   "metadata": {},
   "outputs": [],
   "source": [
    "import os\n",
    "import sys\n",
    "import glob\n",
    "import pickle\n",
    "import yaml\n",
    "from tqdm import tqdm\n",
    "import itertools\n",
    "\n",
    "import numpy as np\n",
    "import matplotlib.pyplot as plt\n",
    "\n",
    "import torch\n",
    "import torch.nn as nn"
   ]
  },
  {
   "cell_type": "code",
   "execution_count": 2,
   "id": "af5e3095-bfce-4407-a578-90e40cf64447",
   "metadata": {},
   "outputs": [],
   "source": [
    "sys.path.append(\"..\")"
   ]
  },
  {
   "cell_type": "code",
   "execution_count": 3,
   "id": "79c8bc1e-933a-4958-8d62-a643c310bf58",
   "metadata": {},
   "outputs": [],
   "source": [
    "import utils_io\n",
    "import metrics"
   ]
  },
  {
   "cell_type": "code",
   "execution_count": 4,
   "id": "ae9492a0-46c2-4117-b3eb-eb7ff4cd5143",
   "metadata": {},
   "outputs": [],
   "source": [
    "SAVE = False"
   ]
  },
  {
   "cell_type": "code",
   "execution_count": 5,
   "id": "d00ec1fc-b0b4-42d2-a50c-5da7dad04e58",
   "metadata": {},
   "outputs": [],
   "source": [
    "#results_dir = \"../results/small/passive\"\n",
    "results_dir = \"../results/passive\""
   ]
  },
  {
   "cell_type": "code",
   "execution_count": 6,
   "id": "613bd9fd-8a7d-4b46-a81d-751636f5c268",
   "metadata": {},
   "outputs": [
    {
     "data": {
      "text/plain": [
       "['../results/passive/xvector_2022-02-12/02-20-27/config_xvector_trimmed_2sec_ahc_plda.yaml',\n",
       " '../results/passive/xvector_2022-02-12/23-06-44/config_xvector_trimmed_2sec_ahc.yaml',\n",
       " '../results/passive/speechbrain_2022-02-12/01-47-25/config_speechbrain_trimmed_2sec_ahc_plda.yaml',\n",
       " '../results/passive/speechbrain_2022-02-12/01-47-47/config_speechbrain_trimmed_2sec_vb_plda.yaml',\n",
       " '../results/passive/speechbrain_2022-02-11/23-31-49/config_speechbrain_trimmed_2sec_ahc.yaml',\n",
       " '../results/passive/speechbrain_2022-02-11/17-00-32/config_speechbrain_trimmed_2sec_ahc_plda.yaml',\n",
       " '../results/passive/speechbrain_2022-02-11/16-49-53/config_speechbrain_trimmed_2sec_vb_plda.yaml',\n",
       " '../results/passive/speechbrain_2022-02-11/16-49-26/config_speechbrain_trimmed_2sec_ahc.yaml',\n",
       " '../results/passive/xvector_2022-02-11/17-03-31/config_xvector_trimmed_2sec_ahc_plda.yaml',\n",
       " '../results/passive/xvector_2022-02-11/16-53-25/config_xvector_trimmed_2sec_ahc.yaml',\n",
       " '../results/passive/xvector_2022-02-11/16-55-32/config_xvector_trimmed_2sec_vb_plda.yaml',\n",
       " '../results/passive/clova_2022-02-12/09-49-09/config_clova_2sec_vb_plda_sph.yaml',\n",
       " '../results/passive/clova_2022-02-12/00-21-50/config_clova_2sec_ahc_plda.yaml',\n",
       " '../results/passive/clova_2022-02-12/08-00-46/config_clova_2sec_ahc.yaml',\n",
       " '../results/passive/clova_2022-02-11/16-51-16/config_clova_2sec_vb_plda_sph.yaml',\n",
       " '../results/passive/clova_2022-02-11/16-49-24/config_clova_2sec_ahc_plda.yaml',\n",
       " '../results/passive/clova_2022-02-11/16-50-46/config_clova_2sec_ahc.yaml',\n",
       " '../results/passive/xvector_2022-02-13/04-47-21/config_xvector_trimmed_2sec_vb_plda.yaml']"
      ]
     },
     "execution_count": 6,
     "metadata": {},
     "output_type": "execute_result"
    }
   ],
   "source": [
    "config_files = glob.glob(f\"{results_dir}/*/*/*.yaml\")\n",
    "config_files"
   ]
  },
  {
   "cell_type": "code",
   "execution_count": 7,
   "id": "2464cbb5-cce2-4fb3-a5ee-317c1523ce8a",
   "metadata": {},
   "outputs": [
    {
     "name": "stderr",
     "output_type": "stream",
     "text": [
      "  0%|          | 0/18 [00:00<?, ?it/s]"
     ]
    },
    {
     "name": "stdout",
     "output_type": "stream",
     "text": [
      "config_xvector_trimmed_2sec_ahc_plda\n",
      "xvector_trimmed_2sec_ahc_plda_diag\n"
     ]
    },
    {
     "name": "stderr",
     "output_type": "stream",
     "text": [
      "  6%|▌         | 1/18 [00:12<03:26, 12.16s/it]"
     ]
    },
    {
     "name": "stdout",
     "output_type": "stream",
     "text": [
      "config_xvector_trimmed_2sec_ahc\n",
      "xvector_trimmed_2sec_ahc\n"
     ]
    },
    {
     "name": "stderr",
     "output_type": "stream",
     "text": [
      " 11%|█         | 2/18 [19:49<3:05:58, 697.40s/it]"
     ]
    },
    {
     "name": "stdout",
     "output_type": "stream",
     "text": [
      "config_speechbrain_trimmed_2sec_ahc_plda\n",
      "speechbrain_trimmed_2sec_ahc_plda_sph\n"
     ]
    },
    {
     "name": "stderr",
     "output_type": "stream",
     "text": [
      " 17%|█▋        | 3/18 [20:07<1:36:51, 387.40s/it]"
     ]
    },
    {
     "name": "stdout",
     "output_type": "stream",
     "text": [
      "config_speechbrain_trimmed_2sec_vb_plda\n",
      "speechbrain_trimmed_2sec_vb_plda_sph\n"
     ]
    },
    {
     "name": "stderr",
     "output_type": "stream",
     "text": [
      " 22%|██▏       | 4/18 [1:46:34<8:52:30, 2282.20s/it]"
     ]
    },
    {
     "name": "stdout",
     "output_type": "stream",
     "text": [
      "config_speechbrain_trimmed_2sec_ahc\n",
      "speechbrain_trimmed_2sec_ahc\n"
     ]
    },
    {
     "name": "stderr",
     "output_type": "stream",
     "text": [
      " 28%|██▊       | 5/18 [2:04:57<6:42:19, 1856.89s/it]"
     ]
    },
    {
     "name": "stdout",
     "output_type": "stream",
     "text": [
      "config_speechbrain_trimmed_2sec_ahc_plda\n",
      "speechbrain_trimmed_2sec_ahc_plda_sph\n"
     ]
    },
    {
     "name": "stderr",
     "output_type": "stream",
     "text": [
      " 33%|███▎      | 6/18 [2:04:59<4:05:13, 1226.13s/it]"
     ]
    },
    {
     "name": "stdout",
     "output_type": "stream",
     "text": [
      "config_speechbrain_trimmed_2sec_vb_plda\n",
      "speechbrain_trimmed_2sec_vb_plda_sph\n"
     ]
    },
    {
     "name": "stderr",
     "output_type": "stream",
     "text": [
      " 39%|███▉      | 7/18 [2:05:06<2:31:46, 827.83s/it] "
     ]
    },
    {
     "name": "stdout",
     "output_type": "stream",
     "text": [
      "config_speechbrain_trimmed_2sec_ahc\n",
      "speechbrain_trimmed_2sec_ahc\n"
     ]
    },
    {
     "name": "stderr",
     "output_type": "stream",
     "text": [
      " 44%|████▍     | 8/18 [2:05:09<1:34:10, 565.05s/it]"
     ]
    },
    {
     "name": "stdout",
     "output_type": "stream",
     "text": [
      "config_xvector_trimmed_2sec_ahc_plda\n",
      "xvector_trimmed_2sec_ahc_plda_diag\n"
     ]
    },
    {
     "name": "stderr",
     "output_type": "stream",
     "text": [
      " 50%|█████     | 9/18 [2:05:11<58:20, 388.95s/it]  "
     ]
    },
    {
     "name": "stdout",
     "output_type": "stream",
     "text": [
      "config_xvector_trimmed_2sec_ahc\n",
      "xvector_trimmed_2sec_ahc\n"
     ]
    },
    {
     "name": "stderr",
     "output_type": "stream",
     "text": [
      " 56%|█████▌    | 10/18 [2:05:13<35:57, 269.65s/it]"
     ]
    },
    {
     "name": "stdout",
     "output_type": "stream",
     "text": [
      "config_xvector_trimmed_2sec_vb_plda\n",
      "xvector_trimmed_2sec_vb_plda_diag\n"
     ]
    },
    {
     "name": "stderr",
     "output_type": "stream",
     "text": [
      " 61%|██████    | 11/18 [2:05:24<22:12, 190.42s/it]"
     ]
    },
    {
     "name": "stdout",
     "output_type": "stream",
     "text": [
      "config_clova_2sec_vb_plda_sph\n",
      "clova_2sec_vb_plda_sph\n"
     ]
    },
    {
     "name": "stderr",
     "output_type": "stream",
     "text": [
      " 67%|██████▋   | 12/18 [3:41:13<3:08:09, 1881.50s/it]"
     ]
    },
    {
     "name": "stdout",
     "output_type": "stream",
     "text": [
      "config_clova_2sec_ahc_plda\n",
      "clova_2sec_ahc_plda_sph\n"
     ]
    },
    {
     "name": "stderr",
     "output_type": "stream",
     "text": [
      " 72%|███████▏  | 13/18 [3:41:35<1:49:50, 1318.08s/it]"
     ]
    },
    {
     "name": "stdout",
     "output_type": "stream",
     "text": [
      "config_clova_2sec_ahc\n",
      "clova_2sec_ahc\n"
     ]
    },
    {
     "name": "stderr",
     "output_type": "stream",
     "text": [
      " 78%|███████▊  | 14/18 [4:09:31<1:35:04, 1426.13s/it]"
     ]
    },
    {
     "name": "stdout",
     "output_type": "stream",
     "text": [
      "config_clova_2sec_vb_plda_sph\n",
      "clova_2sec_vb_plda_sph\n"
     ]
    },
    {
     "name": "stderr",
     "output_type": "stream",
     "text": [
      " 83%|████████▎ | 15/18 [4:09:39<49:56, 998.71s/it]   "
     ]
    },
    {
     "name": "stdout",
     "output_type": "stream",
     "text": [
      "config_clova_2sec_ahc_plda\n",
      "clova_2sec_ahc_plda_sph\n"
     ]
    },
    {
     "name": "stderr",
     "output_type": "stream",
     "text": [
      " 89%|████████▉ | 16/18 [4:09:41<23:17, 698.65s/it]"
     ]
    },
    {
     "name": "stdout",
     "output_type": "stream",
     "text": [
      "config_clova_2sec_ahc\n",
      "clova_2sec_ahc\n"
     ]
    },
    {
     "name": "stderr",
     "output_type": "stream",
     "text": [
      " 94%|█████████▍| 17/18 [4:09:44<08:09, 489.67s/it]"
     ]
    },
    {
     "name": "stdout",
     "output_type": "stream",
     "text": [
      "config_xvector_trimmed_2sec_vb_plda\n",
      "xvector_trimmed_2sec_vb_plda_diag\n"
     ]
    },
    {
     "name": "stderr",
     "output_type": "stream",
     "text": [
      "100%|██████████| 18/18 [5:21:51<00:00, 1072.85s/it]\n"
     ]
    }
   ],
   "source": [
    "AVERAGE_PER_CLUSTER = True\n",
    "\n",
    "\n",
    "results_dict = {}\n",
    "\n",
    "for config_file in tqdm(config_files):\n",
    "    \n",
    "    print(os.path.basename(config_file).split('.')[0])\n",
    "    \n",
    "    config_dir = os.path.dirname(config_file)\n",
    "    config = yaml.load(open(config_file), Loader=yaml.FullLoader)\n",
    "    \n",
    "    embeddings_name = config[\"embeddings_name\"] # ['clova', 'speechbrain', 'xvector']\n",
    "    embeddings_type = config[\"embeddings_type\"]\n",
    "\n",
    "    score_type = config[\"score_type\"] # ['cos_emb_avg', 'cos_sc_avg', 'plda_sph', 'plda_diag']\n",
    "    by_the_book = config[\"by_the_book\"] # plda scoring\n",
    "    preprocessing_name = config[\"preprocessing_name\"]\n",
    "    recognizer = config[\"recognizer\"] # ['exp_avg', 'memory'], use 'memory' for 'cos_sc_avg'\n",
    "    sequential_updates = config[\"sequential_updates\"]\n",
    "    \n",
    "    algorithm = config[\"params\"][\"algorithm\"][0]\n",
    "    \n",
    "#     if embeddings_name in [\"speechbrain\", \"clova\"]:\n",
    "#         continue\n",
    "        \n",
    "    run_name = f\"{embeddings_name}_{embeddings_type}_{algorithm}\"\n",
    "#     if not sequential_updates:\n",
    "#         run_name = f\"{run_name}_offline\"\n",
    "#     if embeddings_name == \"xvector\" and by_the_book:\n",
    "#         run_name = f\"{run_name}_by-the-book\"\n",
    "    print(run_name)\n",
    "    \n",
    "    \n",
    "    JER_list = []\n",
    "\n",
    "    \n",
    "#     thresholds = []\n",
    "\n",
    "\n",
    "    params_dict = {\"alpha\": [], \"Fa\": [], \"Fb\": [], \"algorithm\": [], \"threshold\": []}\n",
    "    \n",
    "    for results_dir_iter in [dir_name for dir_name in glob.glob(f\"{config_dir}/*\") if os.path.isdir(dir_name)]:\n",
    "        #print(results_dir_iter)\n",
    "        \n",
    "        try:\n",
    "            with open(f\"{results_dir_iter}/params.pickle\", \"rb\") as params_file:\n",
    "                params = pickle.load(params_file)\n",
    "            #print(params)\n",
    "        except:\n",
    "            print(f\"Failed to load params for {results_dir_iter}\")\n",
    "            continue\n",
    "            \n",
    "            \n",
    "#         thresholds += [params[\"threshold\"]]\n",
    "\n",
    "        threshold = params[\"threshold\"]\n",
    "        \n",
    "        for key in params_dict.keys():\n",
    "            val = params.get(key, np.nan)\n",
    "            val = val if val is not None else np.nan\n",
    "            params_dict[key].append(val)\n",
    "                \n",
    "\n",
    "        jers_all = []\n",
    "        for file_results in glob.glob(f\"{results_dir_iter}/*.txt\"):\n",
    "            data = utils_io.read_lines_file(file_results)\n",
    "            scores, labels_true, labels_pred = list(zip(*data))\n",
    "\n",
    "            labels_pred_threshold = []\n",
    "            for (score, label) in zip(scores, labels_pred):\n",
    "                if float(score) > threshold:\n",
    "                    labels_pred_threshold += [int(label)]\n",
    "                else:\n",
    "                    labels_pred_threshold += [-1]\n",
    "\n",
    "            labels_true = np.array([int(idx) for idx in labels_true]) # !\n",
    "            labels_pred_threshold = np.array(labels_pred_threshold)\n",
    "\n",
    "            # compute JER\n",
    "            jers = metrics.compute_jer(labels_pred_threshold, labels_true,\n",
    "                                       return_individual=AVERAGE_PER_CLUSTER)\n",
    "            if AVERAGE_PER_CLUSTER:\n",
    "                jers_all += jers.tolist()\n",
    "            else:\n",
    "                jers_all += [jers]\n",
    "                \n",
    "        JER = np.mean(jers_all)\n",
    "        JER_list += [JER]\n",
    "        \n",
    "        \n",
    "\n",
    "    JER_list = np.array(JER_list)\n",
    "\n",
    "    results_dict_run = {}\n",
    "    results_dict_run['JER'] = JER_list\n",
    "    results_dict_run['params'] = params_dict\n",
    "    \n",
    "    for key, val in params_dict.items():\n",
    "        params_dict[key] = np.array(val)\n",
    "    \n",
    "    \n",
    "    # sort\n",
    "    params_dict = results_dict_run['params']\n",
    "    \n",
    "    thresholds = params_dict['threshold']\n",
    "    idx_sort = np.argsort(thresholds)\n",
    "    \n",
    "    for key, val in results_dict_run.items():\n",
    "        if isinstance(val, np.ndarray):\n",
    "            results_dict_run[key] = val[idx_sort]\n",
    "        elif isinstance(val, dict):\n",
    "            for k, v in val.items():\n",
    "                if isinstance(v, np.ndarray):\n",
    "                    val[k] = v[idx_sort]\n",
    "                else:\n",
    "                    print(\"Error\")\n",
    "                    \n",
    "    results_dict[run_name] = results_dict_run\n"
   ]
  },
  {
   "cell_type": "code",
   "execution_count": 8,
   "id": "27e6c7f8-9f00-442a-9603-c0d16f48c360",
   "metadata": {},
   "outputs": [
    {
     "data": {
      "text/plain": [
       "dict_keys(['xvector_trimmed_2sec_ahc_plda_diag', 'xvector_trimmed_2sec_ahc', 'speechbrain_trimmed_2sec_ahc_plda_sph', 'speechbrain_trimmed_2sec_vb_plda_sph', 'speechbrain_trimmed_2sec_ahc', 'xvector_trimmed_2sec_vb_plda_diag', 'clova_2sec_vb_plda_sph', 'clova_2sec_ahc_plda_sph', 'clova_2sec_ahc'])"
      ]
     },
     "execution_count": 8,
     "metadata": {},
     "output_type": "execute_result"
    }
   ],
   "source": [
    "results_dict.keys()"
   ]
  },
  {
   "cell_type": "code",
   "execution_count": 15,
   "id": "a6389bd1-8123-4144-b6d4-57b942c8f2df",
   "metadata": {},
   "outputs": [
    {
     "data": {
      "image/png": "[encoded data removed]",
      "text/plain": [
       "<Figure size 576x432 with 1 Axes>"
      ]
     },
     "metadata": {
      "needs_background": "light"
     },
     "output_type": "display_data"
    }
   ],
   "source": [
    "plt.figure(figsize=(8, 6))\n",
    "plt.xlabel(\"threshold\")\n",
    "plt.ylabel(\"EER, %\")\n",
    "plt.xlim(-20, 20)\n",
    "\n",
    "\n",
    "\n",
    "\n",
    "for run_name in ['speechbrain_trimmed_2sec_vb_plda_sph']:  # \n",
    "    \n",
    "    results_dict_run = results_dict[run_name]\n",
    "    params_dict = results_dict_run['params']\n",
    "    Fa = params_dict[\"Fa\"]\n",
    "    Fb = params_dict[\"Fb\"]\n",
    "    \n",
    "    for (fa, fb) in itertools.product(np.unique(Fa), np.unique(Fb)):\n",
    "        \n",
    "        mask = (Fa == fa) * (Fb == fb)\n",
    "\n",
    "\n",
    "        thresholds = params_dict['threshold']\n",
    "\n",
    "        JER = results_dict_run['JER']\n",
    "\n",
    "        label = f\"{run_name}_Fa{fa:.2f}_Fb{fb:.2f}\"\n",
    "\n",
    "        plt.plot(thresholds[mask], JER[mask], label=label);\n",
    "        plt.legend() \n",
    "    \n",
    " \n",
    "    \n",
    "#plt.savefig(\"NAME\", bbox_inches=\"tight\") "
   ]
  },
  {
   "cell_type": "code",
   "execution_count": 10,
   "id": "d1beb742-eb1b-48a4-84ae-a9f17d5b114a",
   "metadata": {},
   "outputs": [
    {
     "data": {
      "image/png": "[encoded data removed]",
      "text/plain": [
       "<Figure size 576x432 with 1 Axes>"
      ]
     },
     "metadata": {
      "needs_background": "light"
     },
     "output_type": "display_data"
    }
   ],
   "source": [
    "plt.figure(figsize=(8, 6))\n",
    "plt.xlabel(\"threshold\")\n",
    "plt.ylabel(\"JER, %\")\n",
    "plt.xlim(-50, 20)\n",
    "plt.grid() \n",
    "\n",
    "\n",
    "fa = 0.1\n",
    "fb = 0.01\n",
    "\n",
    "run_name = 'speechbrain_trimmed_2sec_vb_plda_sph'\n",
    "    \n",
    "results_dict_run = results_dict[run_name]\n",
    "params_dict = results_dict_run['params']\n",
    "Fa = params_dict[\"Fa\"]\n",
    "Fb = params_dict[\"Fb\"]\n",
    "\n",
    "mask = (Fa == fa) * (Fb == fb)\n",
    "\n",
    "thresholds = params_dict['threshold']\n",
    "\n",
    "JER = results_dict_run['JER']\n",
    "\n",
    "label = f\"{run_name}_Fa{fa:.2f}_Fb{fb:.2f}\"\n",
    "\n",
    "plt.plot(thresholds[mask], JER[mask], label=label);\n",
    "plt.legend();\n",
    "\n",
    "\n",
    "for run_name in ['speechbrain_trimmed_2sec_ahc', 'speechbrain_trimmed_2sec_ahc_plda_sph']:\n",
    "\n",
    "    results_dict_run = results_dict[run_name]\n",
    "    params_dict = results_dict_run['params']\n",
    "\n",
    "    thresholds = params_dict['threshold']\n",
    "\n",
    "    JER = results_dict_run['JER']\n",
    "\n",
    "    label = f\"{run_name}\"\n",
    "\n",
    "    plt.plot(thresholds[:], JER[:], label=label);\n",
    "    plt.legend();     "
   ]
  },
  {
   "cell_type": "code",
   "execution_count": 11,
   "id": "c037ee49-063f-439a-985b-13d2760d2094",
   "metadata": {},
   "outputs": [
    {
     "data": {
      "image/png": "[encoded data removed]",
      "text/plain": [
       "<Figure size 576x432 with 1 Axes>"
      ]
     },
     "metadata": {
      "needs_background": "light"
     },
     "output_type": "display_data"
    }
   ],
   "source": [
    "plt.figure(figsize=(8, 6))\n",
    "plt.xlabel(\"threshold\")\n",
    "plt.ylabel(\"JER, %\")\n",
    "plt.xlim(-50, 20)\n",
    "plt.grid() \n",
    "\n",
    "\n",
    "fa = 0.1\n",
    "fb = 0.01\n",
    "\n",
    "run_name = 'clova_2sec_vb_plda_sph'\n",
    "    \n",
    "results_dict_run = results_dict[run_name]\n",
    "params_dict = results_dict_run['params']\n",
    "Fa = params_dict[\"Fa\"]\n",
    "Fb = params_dict[\"Fb\"]\n",
    "\n",
    "mask = (Fa == fa) * (Fb == fb)\n",
    "\n",
    "thresholds = params_dict['threshold']\n",
    "\n",
    "JER = results_dict_run['JER']\n",
    "\n",
    "label = f\"{run_name}_Fa{fa:.2f}_Fb{fb:.2f}\"\n",
    "\n",
    "plt.plot(thresholds[mask], JER[mask], label=label);\n",
    "plt.legend();\n",
    "\n",
    "\n",
    "\n",
    "\n",
    "\n",
    "for run_name in ['clova_2sec_ahc', 'clova_2sec_ahc_plda_sph']:\n",
    "\n",
    "    results_dict_run = results_dict[run_name]\n",
    "    params_dict = results_dict_run['params']\n",
    "\n",
    "    thresholds = params_dict['threshold']\n",
    "\n",
    "    JER = results_dict_run['JER']\n",
    "\n",
    "    label = f\"{run_name}\"\n",
    "\n",
    "    plt.plot(thresholds[:], JER[:], label=label);\n",
    "    plt.legend();     "
   ]
  },
  {
   "cell_type": "code",
   "execution_count": null,
   "id": "bcbd0125-c8c1-4223-a3d7-534a9080b44f",
   "metadata": {},
   "outputs": [],
   "source": []
  }
 ],
 "metadata": {
  "kernelspec": {
   "display_name": "Python 3",
   "language": "python",
   "name": "python3"
  },
  "language_info": {
   "codemirror_mode": {
    "name": "ipython",
    "version": 3
   },
   "file_extension": ".py",
   "mimetype": "text/x-python",
   "name": "python",
   "nbconvert_exporter": "python",
   "pygments_lexer": "ipython3",
   "version": "3.7.10"
  }
 },
 "nbformat": 4,
 "nbformat_minor": 5
}
