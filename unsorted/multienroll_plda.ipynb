{
 "cells": [
  {
   "cell_type": "code",
   "execution_count": 1,
   "id": "0ec87846-0cca-4aff-88aa-71be70674d49",
   "metadata": {},
   "outputs": [],
   "source": [
    "import os\n",
    "import sys"
   ]
  },
  {
   "cell_type": "code",
   "execution_count": 2,
   "id": "38e11677-c29f-4f02-80eb-c395ef87aa18",
   "metadata": {},
   "outputs": [],
   "source": [
    "sys.path.append(\"..\")"
   ]
  },
  {
   "cell_type": "code",
   "execution_count": 3,
   "id": "6dfbdcf7-7c5b-4535-9e48-55b5cc38c23d",
   "metadata": {},
   "outputs": [],
   "source": [
    "import numpy as np"
   ]
  },
  {
   "cell_type": "code",
   "execution_count": 4,
   "id": "b96b9697-5b4f-4ab2-a8c3-53c971e21306",
   "metadata": {},
   "outputs": [],
   "source": [
    "import torch\n",
    "import torch.nn as nn\n",
    "import torch.nn.functional as F"
   ]
  },
  {
   "cell_type": "code",
   "execution_count": 5,
   "id": "5502816c-d902-47f7-b482-35a4555ef36f",
   "metadata": {},
   "outputs": [],
   "source": [
    "from tqdm import tqdm\n",
    "from collections import defaultdict"
   ]
  },
  {
   "cell_type": "code",
   "execution_count": 6,
   "id": "559eb3d8-2733-4f42-bd38-e1c0faea5fce",
   "metadata": {},
   "outputs": [],
   "source": [
    "import glob"
   ]
  },
  {
   "cell_type": "code",
   "execution_count": 7,
   "id": "ea8a3ecd-0e60-45a0-afb7-9ddbe251dbe7",
   "metadata": {},
   "outputs": [],
   "source": [
    "import matplotlib.pyplot as plt"
   ]
  },
  {
   "cell_type": "code",
   "execution_count": 8,
   "id": "a448920b-df8c-4890-84bc-1e2822724c4f",
   "metadata": {},
   "outputs": [],
   "source": [
    "!mkdir -p saved\n",
    "!cp ../saved/plda_xvector.npz saved"
   ]
  },
  {
   "cell_type": "code",
   "execution_count": 9,
   "id": "d2304a3a-7d68-4a3e-b3dd-b22792c1132a",
   "metadata": {},
   "outputs": [],
   "source": [
    "embeddings_path = \"/home/alexey/Documents/python/household/embeddings\""
   ]
  },
  {
   "cell_type": "code",
   "execution_count": 10,
   "id": "40918992-6430-4915-b8b4-9277094f0ac2",
   "metadata": {},
   "outputs": [],
   "source": [
    "torch.manual_seed(42)\n",
    "np.random.seed(42)"
   ]
  },
  {
   "cell_type": "markdown",
   "id": "298bbdbb-2e89-48a5-9d53-bd6722482708",
   "metadata": {},
   "source": [
    "# VoxCeleb1"
   ]
  },
  {
   "cell_type": "code",
   "execution_count": 11,
   "id": "586011e4-a061-4a1d-bbdd-c4c71b4bfa52",
   "metadata": {},
   "outputs": [
    {
     "name": "stdout",
     "output_type": "stream",
     "text": [
      "classes: 1211\n",
      "torch.Size([148642, 512]) torch.Size([148642])\n"
     ]
    }
   ],
   "source": [
    "data = np.load(f\"{embeddings_path}/emb_vox1_train_xvector_trimmed.npz\")\n",
    "\n",
    "# data = np.load(f'{embeddings_path}/emb_asvspoof2019_train_xvector.npz')\n",
    "# X = data['X']\n",
    "# utt_ids = data['ids']\n",
    "# classes, y = np.unique(utt_ids, return_inverse=True)\n",
    "\n",
    "X = torch.tensor(data['X'])\n",
    "y = torch.tensor(data['y'])\n",
    "\n",
    "classes, _ = torch.unique(y, return_inverse=True)\n",
    "print('classes:', len(classes))\n",
    "print(X.shape, y.shape)  "
   ]
  },
  {
   "cell_type": "code",
   "execution_count": 12,
   "id": "d596e40e-7d4c-4a7c-9b44-51b32d64f664",
   "metadata": {},
   "outputs": [],
   "source": [
    "from utils import generate_trials\n",
    "\n",
    "n_tar, n_imp = 10000, 10000\n",
    "\n",
    "trials_1vs1, labels_1vs1 = generate_trials(y, n_tar, n_imp, n_enrolls=1, n_tests=1, seed=0)\n",
    "trials_3vs1, labels_3vs1 = generate_trials(y, n_tar, n_imp, n_enrolls=3, n_tests=1, seed=1)\n",
    "trials_10vs1, labels_10vs1 = generate_trials(y, n_tar, n_imp, n_enrolls=10, n_tests=1, seed=2)"
   ]
  },
  {
   "cell_type": "code",
   "execution_count": 13,
   "id": "ffc50703-f66d-4fd2-a889-c662f5f02ec1",
   "metadata": {},
   "outputs": [],
   "source": [
    "from scoring import *\n",
    "from preprocessing import *\n",
    "from utils import requires_grad\n",
    "from metrics import eer"
   ]
  },
  {
   "cell_type": "code",
   "execution_count": 14,
   "id": "c678b55f-070c-494d-9ca2-39a0c181a7d8",
   "metadata": {},
   "outputs": [],
   "source": [
    "preprocessing_name = \"xvector\"\n",
    "transforms, model_params = load_backend(preprocessing_name)\n",
    "X = apply_sequence(X, transforms) "
   ]
  },
  {
   "cell_type": "code",
   "execution_count": 15,
   "id": "e9fb822d-7aa3-4fe5-816e-d769f6af2892",
   "metadata": {},
   "outputs": [
    {
     "name": "stderr",
     "output_type": "stream",
     "text": [
      "100%|██████████| 20000/20000 [00:04<00:00, 4194.17it/s]\n",
      "100%|██████████| 20000/20000 [00:04<00:00, 4174.26it/s]\n",
      "100%|██████████| 20000/20000 [00:04<00:00, 4016.98it/s]\n"
     ]
    },
    {
     "name": "stdout",
     "output_type": "stream",
     "text": [
      "EER, averaging, pooled: 2.37 %\n",
      "EER, averaging, 1 enroll: 2.45 %\n",
      "EER, averaging, 3 enrolls: 1.10 %\n",
      "EER, averaging, 10 enrolls: 0.70 %\n"
     ]
    },
    {
     "name": "stderr",
     "output_type": "stream",
     "text": [
      "100%|██████████| 20000/20000 [00:04<00:00, 4129.44it/s]\n",
      "100%|██████████| 20000/20000 [00:04<00:00, 4006.32it/s]\n",
      "100%|██████████| 20000/20000 [00:05<00:00, 3888.43it/s]\n"
     ]
    },
    {
     "name": "stdout",
     "output_type": "stream",
     "text": [
      "EER, by_the_book, pooled: 1.48 %\n",
      "EER, by_the_book, 1 enroll: 2.45 %\n",
      "EER, by_the_book, 3 enrolls: 1.19 %\n",
      "EER, by_the_book, 10 enrolls: 0.78 %\n"
     ]
    },
    {
     "data": {
      "image/png": "[encoded data removed]",
      "text/plain": [
       "<Figure size 720x360 with 1 Axes>"
      ]
     },
     "metadata": {
      "needs_background": "light"
     },
     "output_type": "display_data"
    },
    {
     "data": {
      "image/png": "[encoded data removed]",
      "text/plain": [
       "<Figure size 720x360 with 1 Axes>"
      ]
     },
     "metadata": {
      "needs_background": "light"
     },
     "output_type": "display_data"
    }
   ],
   "source": [
    "for score_type in [\"averaging\", \"by_the_book\"]:\n",
    "    \n",
    "    # load pretrained PLDA\n",
    "    w_vec = model_params['W']\n",
    "    w_vec = torch.tensor(w_vec).float()\n",
    "    similarity_score = ScoreDiagPLDA(w_vec, by_the_book=score_type==\"by_the_book\")\n",
    "\n",
    "    requires_grad(similarity_score, False)\n",
    "\n",
    "    # compute scores\n",
    "    # 1 enroll\n",
    "    scores_1vs1 = []\n",
    "    for (idx_enr, idx_test) in tqdm(trials_1vs1):\n",
    "\n",
    "        x_enr = X[idx_enr]\n",
    "        x_test = X[idx_test:idx_test+1]\n",
    "\n",
    "        n_e = x_enr.shape[0]\n",
    "        c_e = torch.mean(x_enr, dim=0, keepdim=True)\n",
    "        score = similarity_score((c_e, n_e), x_test)\n",
    "        #score = similarity_score(x_enr, x_test)\n",
    "        scores_1vs1 += [score]\n",
    "\n",
    "    scores_1vs1 = torch.cat(scores_1vs1)\n",
    "    scores_1vs1 = scores_1vs1.cpu().numpy()\n",
    "\n",
    "    # 3 enrolls\n",
    "    scores_3vs1 = []\n",
    "    for (idx_enr, idx_test) in tqdm(trials_3vs1):\n",
    "\n",
    "        x_enr = X[idx_enr]\n",
    "        x_test = X[idx_test:idx_test+1]\n",
    "\n",
    "        n_e = x_enr.shape[0]\n",
    "        c_e = torch.mean(x_enr, dim=0, keepdim=True)\n",
    "        score = similarity_score((c_e, n_e), x_test)\n",
    "        #score = similarity_score(x_enr, x_test)\n",
    "        scores_3vs1 += [score]\n",
    "\n",
    "    scores_3vs1 = torch.cat(scores_3vs1)\n",
    "    scores_3vs1 = scores_3vs1.cpu().numpy()\n",
    "\n",
    "    #10 enrolls\n",
    "    scores_10vs1 = []\n",
    "    for (idx_enr, idx_test) in tqdm(trials_10vs1):\n",
    "\n",
    "        x_enr = X[idx_enr]\n",
    "        x_test = X[idx_test:idx_test+1]\n",
    "\n",
    "        n_e = x_enr.shape[0]\n",
    "        c_e = torch.mean(x_enr, dim=0, keepdim=True)\n",
    "        score = similarity_score((c_e, n_e), x_test)\n",
    "        #score = similarity_score(x_enr, x_test)\n",
    "        scores_10vs1 += [score]\n",
    "\n",
    "    scores_10vs1 = torch.cat(scores_10vs1)\n",
    "    scores_10vs1 = scores_10vs1.cpu().numpy()\n",
    "\n",
    "    # compute EER\n",
    "    EER, _ = eer(np.r_[scores_1vs1, scores_3vs1, scores_10vs1], np.r_[labels_1vs1, labels_3vs1, labels_10vs1])\n",
    "    #EER, _ = eer(np.r_[scores_1vs1, scores_10vs1], np.r_[labels_1vs1, labels_10vs1])\n",
    "    print(f'EER, {score_type}, pooled: {100*EER:.2f} %') \n",
    "    EER, _ = eer(scores_1vs1, labels_1vs1)\n",
    "    print(f'EER, {score_type}, 1 enroll: {100*EER:.2f} %')\n",
    "    EER, _ = eer(scores_3vs1, labels_3vs1)\n",
    "    print(f'EER, {score_type}, 3 enrolls: {100*EER:.2f} %')\n",
    "    EER, _ = eer(scores_10vs1, labels_10vs1)\n",
    "    print(f'EER, {score_type}, 10 enrolls: {100*EER:.2f} %')\n",
    "\n",
    "\n",
    "    plt.figure(figsize=(10,5))\n",
    "    n_bins = 100\n",
    "    plt.hist(scores_1vs1[labels_1vs1==1], bins=n_bins, color='c', density=True, alpha=0.3, label='tar 1');\n",
    "    plt.hist(scores_3vs1[labels_3vs1==1], bins=n_bins, color='b', density=True, alpha=0.3, label='tar 3');\n",
    "    plt.hist(scores_10vs1[labels_10vs1==1], bins=n_bins, color='k', density=True, alpha=0.3, label='tar 10');\n",
    "    plt.hist(scores_1vs1[labels_1vs1==0], bins=n_bins, color='r', density=True, alpha=0.3, label='imp 1');\n",
    "    plt.hist(scores_10vs1[labels_10vs1==0], bins=n_bins, color='m', density=True, alpha=0.3, label='imp 10');\n",
    "    plt.title(f'{score_type}');\n",
    "    \n",
    "    plt.legend();\n"
   ]
  },
  {
   "cell_type": "markdown",
   "id": "740a77fa-f976-40ae-8ddc-1bac92cb0a83",
   "metadata": {},
   "source": [
    "# ASVspoof"
   ]
  },
  {
   "cell_type": "code",
   "execution_count": 16,
   "id": "99a958fa-6753-4dca-b42c-432ddea473c4",
   "metadata": {},
   "outputs": [
    {
     "name": "stdout",
     "output_type": "stream",
     "text": [
      "classes: 20\n",
      "torch.Size([5400, 512]) torch.Size([5400])\n"
     ]
    }
   ],
   "source": [
    "#data = np.load(f\"{embeddings_path}/emb_vox1_train_xvector_trimmed.npz\")\n",
    "\n",
    "data = np.load(f'{embeddings_path}/emb_asvspoof2019_train_xvector.npz')\n",
    "X = data['X']\n",
    "utt_ids = data['ids']\n",
    "classes, y = np.unique(utt_ids, return_inverse=True)\n",
    "\n",
    "X = torch.tensor(data['X'])\n",
    "y = torch.tensor(data['y'])\n",
    "\n",
    "classes, _ = torch.unique(y, return_inverse=True)\n",
    "print('classes:', len(classes))\n",
    "print(X.shape, y.shape)  "
   ]
  },
  {
   "cell_type": "code",
   "execution_count": 17,
   "id": "efee8528-2bdd-4e04-96ce-362b2658031f",
   "metadata": {},
   "outputs": [],
   "source": [
    "from utils import generate_trials\n",
    "\n",
    "n_tar, n_imp = 10000, 10000\n",
    "\n",
    "trials_1vs1, labels_1vs1 = generate_trials(y, n_tar, n_imp, n_enrolls=1, n_tests=1, seed=0)\n",
    "trials_3vs1, labels_3vs1 = generate_trials(y, n_tar, n_imp, n_enrolls=3, n_tests=1, seed=1)\n",
    "trials_10vs1, labels_10vs1 = generate_trials(y, n_tar, n_imp, n_enrolls=10, n_tests=1, seed=2)"
   ]
  },
  {
   "cell_type": "code",
   "execution_count": 18,
   "id": "07775dbb-bdee-4730-8ce0-7610b561a6d5",
   "metadata": {},
   "outputs": [],
   "source": [
    "from scoring import *\n",
    "from preprocessing import *\n",
    "from utils import requires_grad\n",
    "from metrics import eer"
   ]
  },
  {
   "cell_type": "code",
   "execution_count": 19,
   "id": "d7dadd3d-e957-436c-a2e4-0d78607972d3",
   "metadata": {},
   "outputs": [],
   "source": [
    "preprocessing_name = \"xvector\"\n",
    "transforms, model_params = load_backend(preprocessing_name)\n",
    "X = apply_sequence(X, transforms) "
   ]
  },
  {
   "cell_type": "code",
   "execution_count": 20,
   "id": "c5374736-3da9-4d4e-bf0f-b9ae0c8bdc8c",
   "metadata": {},
   "outputs": [
    {
     "name": "stderr",
     "output_type": "stream",
     "text": [
      "100%|██████████| 20000/20000 [00:04<00:00, 4036.89it/s]\n",
      "100%|██████████| 20000/20000 [00:04<00:00, 4048.46it/s]\n",
      "100%|██████████| 20000/20000 [00:05<00:00, 3740.14it/s]\n"
     ]
    },
    {
     "name": "stdout",
     "output_type": "stream",
     "text": [
      "EER, averaging, pooled: 6.93 %\n",
      "EER, averaging, 1 enroll: 8.33 %\n",
      "EER, averaging, 3 enrolls: 4.28 %\n",
      "EER, averaging, 10 enrolls: 1.75 %\n"
     ]
    },
    {
     "name": "stderr",
     "output_type": "stream",
     "text": [
      "100%|██████████| 20000/20000 [00:04<00:00, 4103.59it/s]\n",
      "100%|██████████| 20000/20000 [00:04<00:00, 4090.86it/s]\n",
      "100%|██████████| 20000/20000 [00:05<00:00, 3660.02it/s]\n"
     ]
    },
    {
     "name": "stdout",
     "output_type": "stream",
     "text": [
      "EER, by_the_book, pooled: 9.90 %\n",
      "EER, by_the_book, 1 enroll: 8.33 %\n",
      "EER, by_the_book, 3 enrolls: 5.26 %\n",
      "EER, by_the_book, 10 enrolls: 2.82 %\n"
     ]
    },
    {
     "data": {
      "image/png": "[encoded data removed]",
      "text/plain": [
       "<Figure size 720x360 with 1 Axes>"
      ]
     },
     "metadata": {
      "needs_background": "light"
     },
     "output_type": "display_data"
    },
    {
     "data": {
      "image/png": "[encoded data removed]",
      "text/plain": [
       "<Figure size 720x360 with 1 Axes>"
      ]
     },
     "metadata": {
      "needs_background": "light"
     },
     "output_type": "display_data"
    }
   ],
   "source": [
    "for score_type in [\"averaging\", \"by_the_book\"]:\n",
    "    \n",
    "    # load pretrained PLDA\n",
    "    w_vec = model_params['W']\n",
    "    w_vec = torch.tensor(w_vec).float()\n",
    "    similarity_score = ScoreDiagPLDA(w_vec, by_the_book=score_type==\"by_the_book\")\n",
    "\n",
    "    requires_grad(similarity_score, False)\n",
    "\n",
    "    # compute scores\n",
    "    # 1 enroll\n",
    "    scores_1vs1 = []\n",
    "    for (idx_enr, idx_test) in tqdm(trials_1vs1):\n",
    "\n",
    "        x_enr = X[idx_enr]\n",
    "        x_test = X[idx_test:idx_test+1]\n",
    "\n",
    "        n_e = x_enr.shape[0]\n",
    "        c_e = torch.mean(x_enr, dim=0, keepdim=True)\n",
    "        score = similarity_score((c_e, n_e), x_test)\n",
    "        #score = similarity_score(x_enr, x_test)\n",
    "        scores_1vs1 += [score]\n",
    "\n",
    "    scores_1vs1 = torch.cat(scores_1vs1)\n",
    "    scores_1vs1 = scores_1vs1.cpu().numpy()\n",
    "\n",
    "    # 3 enrolls\n",
    "    scores_3vs1 = []\n",
    "    for (idx_enr, idx_test) in tqdm(trials_3vs1):\n",
    "\n",
    "        x_enr = X[idx_enr]\n",
    "        x_test = X[idx_test:idx_test+1]\n",
    "\n",
    "        n_e = x_enr.shape[0]\n",
    "        c_e = torch.mean(x_enr, dim=0, keepdim=True)\n",
    "        score = similarity_score((c_e, n_e), x_test)\n",
    "        #score = similarity_score(x_enr, x_test)\n",
    "        scores_3vs1 += [score]\n",
    "\n",
    "    scores_3vs1 = torch.cat(scores_3vs1)\n",
    "    scores_3vs1 = scores_3vs1.cpu().numpy()\n",
    "\n",
    "    #10 enrolls\n",
    "    scores_10vs1 = []\n",
    "    for (idx_enr, idx_test) in tqdm(trials_10vs1):\n",
    "\n",
    "        x_enr = X[idx_enr]\n",
    "        x_test = X[idx_test:idx_test+1]\n",
    "\n",
    "        n_e = x_enr.shape[0]\n",
    "        c_e = torch.mean(x_enr, dim=0, keepdim=True)\n",
    "        score = similarity_score((c_e, n_e), x_test)\n",
    "        #score = similarity_score(x_enr, x_test)\n",
    "        scores_10vs1 += [score]\n",
    "\n",
    "    scores_10vs1 = torch.cat(scores_10vs1)\n",
    "    scores_10vs1 = scores_10vs1.cpu().numpy()\n",
    "\n",
    "    # compute EER\n",
    "    EER, _ = eer(np.r_[scores_1vs1, scores_3vs1, scores_10vs1], np.r_[labels_1vs1, labels_3vs1, labels_10vs1])\n",
    "    #EER, _ = eer(np.r_[scores_1vs1, scores_10vs1], np.r_[labels_1vs1, labels_10vs1])\n",
    "    print(f'EER, {score_type}, pooled: {100*EER:.2f} %') \n",
    "    EER, _ = eer(scores_1vs1, labels_1vs1)\n",
    "    print(f'EER, {score_type}, 1 enroll: {100*EER:.2f} %')\n",
    "    EER, _ = eer(scores_3vs1, labels_3vs1)\n",
    "    print(f'EER, {score_type}, 3 enrolls: {100*EER:.2f} %')\n",
    "    EER, _ = eer(scores_10vs1, labels_10vs1)\n",
    "    print(f'EER, {score_type}, 10 enrolls: {100*EER:.2f} %')\n",
    "\n",
    "\n",
    "    plt.figure(figsize=(10,5))\n",
    "    n_bins = 100\n",
    "    plt.hist(scores_1vs1[labels_1vs1==1], bins=n_bins, color='c', density=True, alpha=0.3, label='tar 1');\n",
    "    plt.hist(scores_3vs1[labels_3vs1==1], bins=n_bins, color='b', density=True, alpha=0.3, label='tar 3');\n",
    "    plt.hist(scores_10vs1[labels_10vs1==1], bins=n_bins, color='k', density=True, alpha=0.3, label='tar 10');\n",
    "    plt.hist(scores_1vs1[labels_1vs1==0], bins=n_bins, color='r', density=True, alpha=0.3, label='imp 1');\n",
    "    plt.hist(scores_10vs1[labels_10vs1==0], bins=n_bins, color='m', density=True, alpha=0.3, label='imp 10');\n",
    "    plt.title(f'{score_type}');\n",
    "    \n",
    "    plt.legend();\n"
   ]
  },
  {
   "cell_type": "code",
   "execution_count": null,
   "id": "dde9ce6d-4492-4bf1-8e2d-14a68a70efa8",
   "metadata": {},
   "outputs": [],
   "source": []
  }
 ],
 "metadata": {
  "kernelspec": {
   "display_name": "Python 3",
   "language": "python",
   "name": "python3"
  },
  "language_info": {
   "codemirror_mode": {
    "name": "ipython",
    "version": 3
   },
   "file_extension": ".py",
   "mimetype": "text/x-python",
   "name": "python",
   "nbconvert_exporter": "python",
   "pygments_lexer": "ipython3",
   "version": "3.7.10"
  }
 },
 "nbformat": 4,
 "nbformat_minor": 5
}
