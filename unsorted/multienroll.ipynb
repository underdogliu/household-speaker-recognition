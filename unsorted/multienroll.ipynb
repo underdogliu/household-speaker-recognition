{
 "cells": [
  {
   "cell_type": "code",
   "execution_count": 1,
   "id": "0ec87846-0cca-4aff-88aa-71be70674d49",
   "metadata": {},
   "outputs": [],
   "source": [
    "import os\n",
    "import sys"
   ]
  },
  {
   "cell_type": "code",
   "execution_count": 2,
   "id": "38e11677-c29f-4f02-80eb-c395ef87aa18",
   "metadata": {},
   "outputs": [],
   "source": [
    "sys.path.append(\"..\")"
   ]
  },
  {
   "cell_type": "code",
   "execution_count": 3,
   "id": "6dfbdcf7-7c5b-4535-9e48-55b5cc38c23d",
   "metadata": {},
   "outputs": [],
   "source": [
    "import numpy as np"
   ]
  },
  {
   "cell_type": "code",
   "execution_count": 4,
   "id": "b96b9697-5b4f-4ab2-a8c3-53c971e21306",
   "metadata": {},
   "outputs": [],
   "source": [
    "import torch\n",
    "import torch.nn as nn\n",
    "import torch.nn.functional as F"
   ]
  },
  {
   "cell_type": "code",
   "execution_count": 5,
   "id": "5502816c-d902-47f7-b482-35a4555ef36f",
   "metadata": {},
   "outputs": [],
   "source": [
    "from tqdm import tqdm\n",
    "from collections import defaultdict"
   ]
  },
  {
   "cell_type": "code",
   "execution_count": 6,
   "id": "559eb3d8-2733-4f42-bd38-e1c0faea5fce",
   "metadata": {},
   "outputs": [],
   "source": [
    "import glob"
   ]
  },
  {
   "cell_type": "code",
   "execution_count": 7,
   "id": "ea8a3ecd-0e60-45a0-afb7-9ddbe251dbe7",
   "metadata": {},
   "outputs": [],
   "source": [
    "import matplotlib.pyplot as plt"
   ]
  },
  {
   "cell_type": "code",
   "execution_count": null,
   "id": "a448920b-df8c-4890-84bc-1e2822724c4f",
   "metadata": {},
   "outputs": [],
   "source": []
  },
  {
   "cell_type": "code",
   "execution_count": 8,
   "id": "d2304a3a-7d68-4a3e-b3dd-b22792c1132a",
   "metadata": {},
   "outputs": [],
   "source": [
    "embeddings_path = \"/home/alexey/Documents/python/household/embeddings\""
   ]
  },
  {
   "cell_type": "code",
   "execution_count": null,
   "id": "40918992-6430-4915-b8b4-9277094f0ac2",
   "metadata": {},
   "outputs": [],
   "source": []
  },
  {
   "cell_type": "code",
   "execution_count": 9,
   "id": "748307c0-6598-42c6-abfd-e3cfbc8b2331",
   "metadata": {},
   "outputs": [],
   "source": [
    "crop_size = \"2sec\""
   ]
  },
  {
   "cell_type": "code",
   "execution_count": 29,
   "id": "586011e4-a061-4a1d-bbdd-c4c71b4bfa52",
   "metadata": {},
   "outputs": [
    {
     "name": "stdout",
     "output_type": "stream",
     "text": [
      "classes: 1211\n",
      "torch.Size([148642, 512]) torch.Size([148642])\n"
     ]
    }
   ],
   "source": [
    "data = np.load(f\"{embeddings_path}/emb_vox1_train_clova_{crop_size}.npz\")\n",
    "\n",
    "\n",
    "X = torch.tensor(data['X'])\n",
    "utt_ids = data['ids']\n",
    "\n",
    "spk_ids = [utt.split('-')[0] for utt in utt_ids]\n",
    "\n",
    "X = F.normalize(X, dim=1)\n",
    "\n",
    "classes, y = np.unique(spk_ids, return_inverse=True)\n",
    "y = torch.tensor(y).long()\n",
    "classes, y = torch.unique(y, return_inverse=True)\n",
    "\n",
    "print('classes:', len(classes))\n",
    "print(X.shape, y.shape)\n",
    "\n",
    "# # filter out small classes\n",
    "# classes, counts = torch.unique(y, return_counts=True)\n",
    "# classes_subset = classes[counts > 100]\n",
    "\n",
    "# mask = y == -1\n",
    "# for c in classes_subset:\n",
    "#     mask = (y == c) + (mask)\n",
    "\n",
    "# X = X[mask]\n",
    "# y = y[mask]\n",
    "# classes, _ = torch.unique(y, return_inverse=True)\n",
    "\n",
    "# print('classes:', len(classes))\n",
    "# print(X.shape, y.shape)    "
   ]
  },
  {
   "cell_type": "code",
   "execution_count": 30,
   "id": "865ceb98-7cad-42f7-a034-7e889fe67906",
   "metadata": {},
   "outputs": [
    {
     "data": {
      "text/plain": [
       "(tensor([  45,   45,   45,  ...,  589,  656, 1002]),)"
      ]
     },
     "execution_count": 30,
     "metadata": {},
     "output_type": "execute_result"
    }
   ],
   "source": [
    "torch.sort(torch.unique(y, return_counts=True)[1])[::10]"
   ]
  },
  {
   "cell_type": "code",
   "execution_count": 31,
   "id": "36da07a0-9885-48f4-85d2-6d8dddd63fa9",
   "metadata": {},
   "outputs": [
    {
     "name": "stdout",
     "output_type": "stream",
     "text": [
      "torch.Size([111345, 512]) torch.Size([37297, 512])\n"
     ]
    }
   ],
   "source": [
    "# train / test split\n",
    "test_fraction = 0.25\n",
    "\n",
    "perm = torch.randperm(len(classes))\n",
    "n = int(test_fraction * len(classes))\n",
    "classes_test = classes[perm][:n]\n",
    "classes_train = classes[perm][n:]\n",
    "\n",
    "mask_train = y == -1\n",
    "for c in classes_train:\n",
    "    mask_train = (mask_train) + (y == c)\n",
    "\n",
    "X_train = X[mask_train]    \n",
    "y_train = y[mask_train] \n",
    "\n",
    "X = X[torch.logical_not(mask_train)] \n",
    "y = y[torch.logical_not(mask_train)] \n",
    "\n",
    "print(X_train.shape, X.shape)"
   ]
  },
  {
   "cell_type": "code",
   "execution_count": 32,
   "id": "d596e40e-7d4c-4a7c-9b44-51b32d64f664",
   "metadata": {},
   "outputs": [
    {
     "name": "stdout",
     "output_type": "stream",
     "text": [
      ".\n",
      "..\n",
      "...\n"
     ]
    }
   ],
   "source": [
    "from utils import generate_trials\n",
    "\n",
    "n_tar, n_imp = 50000, 50000\n",
    "\n",
    "trials_1vs1, labels_1vs1 = generate_trials(y, n_tar, n_imp, n_enrolls=1, n_tests=1, seed=0)\n",
    "print('.')\n",
    "trials_3vs1, labels_3vs1 = generate_trials(y, n_tar, n_imp, n_enrolls=3, n_tests=1, seed=1)\n",
    "print('..')\n",
    "trials_10vs1, labels_10vs1 = generate_trials(y, n_tar, n_imp, n_enrolls=10, n_tests=1, seed=2)\n",
    "print('...')"
   ]
  },
  {
   "cell_type": "code",
   "execution_count": 33,
   "id": "8c86ac07-4b75-4e7a-b33d-1b753a1e54ba",
   "metadata": {},
   "outputs": [
    {
     "data": {
      "text/plain": [
       "([(tensor([11576]), tensor([11509])),\n",
       "  (tensor([32135]), tensor([32162])),\n",
       "  (tensor([4396]), tensor([4405]))],\n",
       " [(tensor([35755, 35895, 36064]), tensor([35762])),\n",
       "  (tensor([16512, 16556, 16516]), tensor([16587])),\n",
       "  (tensor([29991, 29912, 30010]), tensor([29955]))],\n",
       " [(tensor([28211, 28285, 28238, 28269, 28349, 28225, 28298, 28329, 28277, 28304]),\n",
       "   tensor([28226])),\n",
       "  (tensor([16270, 16261, 16243, 16264, 16213, 16241, 16223, 16255, 16258, 16245]),\n",
       "   tensor([16224])),\n",
       "  (tensor([24576, 24588, 24573, 24583, 24582, 24599, 24594, 24587, 24568, 24578]),\n",
       "   tensor([24602]))])"
      ]
     },
     "execution_count": 33,
     "metadata": {},
     "output_type": "execute_result"
    }
   ],
   "source": [
    "trials_1vs1[:3], trials_3vs1[:3], trials_10vs1[:3]"
   ]
  },
  {
   "cell_type": "code",
   "execution_count": 34,
   "id": "ffc50703-f66d-4fd2-a889-c662f5f02ec1",
   "metadata": {},
   "outputs": [],
   "source": [
    "from scoring import *\n",
    "from utils import requires_grad\n",
    "from metrics import eer"
   ]
  },
  {
   "cell_type": "code",
   "execution_count": null,
   "id": "ff0e9991-13c3-4926-a4a7-70a5f9264c39",
   "metadata": {},
   "outputs": [],
   "source": []
  },
  {
   "cell_type": "code",
   "execution_count": null,
   "id": "844cbd26-6f81-465c-ba63-7ba8b7f3e76a",
   "metadata": {},
   "outputs": [],
   "source": []
  },
  {
   "cell_type": "code",
   "execution_count": 36,
   "id": "553bb7dc-97ef-433d-bd5e-b2690b4b537a",
   "metadata": {},
   "outputs": [
    {
     "name": "stderr",
     "output_type": "stream",
     "text": [
      "100%|██████████| 100000/100000 [00:11<00:00, 8858.01it/s]\n",
      "100%|██████████| 100000/100000 [00:11<00:00, 8611.38it/s]\n",
      "100%|██████████| 100000/100000 [00:16<00:00, 5999.54it/s]\n",
      "  1%|          | 1155/100000 [00:00<00:08, 11547.92it/s]"
     ]
    },
    {
     "name": "stdout",
     "output_type": "stream",
     "text": [
      "EER, cos_emb_avg, pooled: 3.10 %\n",
      "EER, cos_emb_avg, 1 enroll: 3.51 %\n",
      "EER, cos_emb_avg, 3 enrolls: 1.36 %\n",
      "EER, cos_emb_avg, 10 enrolls: 0.79 %\n"
     ]
    },
    {
     "name": "stderr",
     "output_type": "stream",
     "text": [
      "100%|██████████| 100000/100000 [00:10<00:00, 9469.90it/s]\n",
      "100%|██████████| 100000/100000 [00:11<00:00, 8640.52it/s]\n",
      "100%|██████████| 100000/100000 [00:17<00:00, 5634.90it/s]\n"
     ]
    },
    {
     "name": "stdout",
     "output_type": "stream",
     "text": [
      "EER, cos_sc_avg, pooled: 2.00 %\n",
      "EER, cos_sc_avg, 1 enroll: 3.51 %\n",
      "EER, cos_sc_avg, 3 enrolls: 1.47 %\n",
      "EER, cos_sc_avg, 10 enrolls: 0.90 %\n"
     ]
    },
    {
     "name": "stderr",
     "output_type": "stream",
     "text": [
      "  0%|          | 0/100000 [00:00<?, ?it/s]../scoring_impl.py:16: UserWarning: To copy construct from a tensor, it is recommended to use sourceTensor.clone().detach() or sourceTensor.clone().detach().requires_grad_(True), rather than torch.tensor(sourceTensor).\n",
      "  b, w = torch.tensor(b), torch.tensor(w)\n",
      "100%|██████████| 100000/100000 [00:36<00:00, 2755.80it/s]\n",
      "100%|██████████| 100000/100000 [00:34<00:00, 2874.76it/s]\n",
      "100%|██████████| 100000/100000 [00:53<00:00, 1881.49it/s]\n"
     ]
    },
    {
     "name": "stdout",
     "output_type": "stream",
     "text": [
      "EER, plda_sph, pooled: 1.91 %\n",
      "EER, plda_sph, 1 enroll: 3.51 %\n",
      "EER, plda_sph, 3 enrolls: 1.34 %\n",
      "EER, plda_sph, 10 enrolls: 0.80 %\n"
     ]
    }
   ],
   "source": [
    "outputs = []\n",
    "\n",
    "for idx, score_type in enumerate(['cos_emb_avg', 'cos_sc_avg', 'plda_sph']):\n",
    "\n",
    "    if score_type == 'cos_emb_avg':\n",
    "        similarity_score = ScoreCosine('embeddings')\n",
    "    elif score_type == 'cos_sc_avg':\n",
    "        similarity_score = ScoreCosine('scores')\n",
    "    elif score_type == 'plda_sph':\n",
    "        from training import train_plda_sph_mle\n",
    "        b, w = train_plda_sph_mle(X_train, y_train)\n",
    "        similarity_score = ScoreSphPLDA(b, w, by_the_book=True)\n",
    "        \n",
    "    requires_grad(similarity_score, False)\n",
    "    \n",
    "    # compute scores\n",
    "    # 1 enroll\n",
    "    scores_1vs1 = []\n",
    "    for (idx_enr, idx_test) in tqdm(trials_1vs1):\n",
    "\n",
    "        x_enr = X[idx_enr]\n",
    "        x_test = X[idx_test:idx_test+1]\n",
    "\n",
    "        score = similarity_score(x_enr, x_test)\n",
    "        scores_1vs1 += [score]\n",
    "\n",
    "    scores_1vs1 = torch.cat(scores_1vs1)\n",
    "    scores_1vs1 = scores_1vs1.cpu().numpy()\n",
    "\n",
    "    # 3 enrolls\n",
    "    scores_3vs1 = []\n",
    "    for (idx_enr, idx_test) in tqdm(trials_3vs1):\n",
    "\n",
    "        x_enr = X[idx_enr]\n",
    "        x_test = X[idx_test:idx_test+1]\n",
    "\n",
    "        score = similarity_score(x_enr, x_test)\n",
    "        scores_3vs1 += [score]\n",
    "\n",
    "    scores_3vs1 = torch.cat(scores_3vs1)\n",
    "    scores_3vs1 = scores_3vs1.cpu().numpy()\n",
    "\n",
    "    #10 enrolls\n",
    "    scores_10vs1 = []\n",
    "    for (idx_enr, idx_test) in tqdm(trials_10vs1):\n",
    "\n",
    "        x_enr = X[idx_enr]\n",
    "        x_test = X[idx_test:idx_test+1]\n",
    "\n",
    "        score = similarity_score(x_enr, x_test)\n",
    "        scores_10vs1 += [score]\n",
    "\n",
    "    scores_10vs1 = torch.cat(scores_10vs1)\n",
    "    scores_10vs1 = scores_10vs1.cpu().numpy()\n",
    "    \n",
    "    # compute EER\n",
    "    EER, _ = eer(np.r_[scores_1vs1, scores_3vs1, scores_10vs1], np.r_[labels_1vs1, labels_3vs1, labels_10vs1])\n",
    "    #EER, _ = eer(np.r_[scores_1vs1, scores_10vs1], np.r_[labels_1vs1, labels_10vs1])\n",
    "    print(f'EER, {score_type}, pooled: {100*EER:.2f} %') \n",
    "    EER, _ = eer(scores_1vs1, labels_1vs1)\n",
    "    print(f'EER, {score_type}, 1 enroll: {100*EER:.2f} %')\n",
    "    EER, _ = eer(scores_3vs1, labels_3vs1)\n",
    "    print(f'EER, {score_type}, 3 enrolls: {100*EER:.2f} %')\n",
    "    EER, _ = eer(scores_10vs1, labels_10vs1)\n",
    "    print(f'EER, {score_type}, 10 enrolls: {100*EER:.2f} %')\n",
    "        \n",
    "    \n",
    "#     n_bins = 100\n",
    "#     ax[idx].hist(scores_1vs1[labels_1vs1==1], bins=n_bins, color='c', density=True, alpha=0.3, label='tar 1');\n",
    "#     ax[idx].hist(scores_3vs1[labels_3vs1==1], bins=n_bins, color='b', density=True, alpha=0.3, label='tar 3');\n",
    "#     ax[idx].hist(scores_10vs1[labels_10vs1==1], bins=n_bins, color='k', density=True, alpha=0.3, label='tar 10');\n",
    "#     ax[idx].hist(scores_1vs1[labels_1vs1==0], bins=n_bins, color='r', density=True, alpha=0.3, label='imp 1');\n",
    "#     ax[idx].hist(scores_10vs1[labels_10vs1==0], bins=n_bins, color='m', density=True, alpha=0.3, label='imp 10');\n",
    "#     #ax[idx].title(f'{score_type} {crop_size}');\n",
    "#     ax[idx].legend();\n",
    "    \n",
    "    \n",
    "    outputs += [(scores_1vs1, scores_3vs1, scores_10vs1)]"
   ]
  },
  {
   "cell_type": "code",
   "execution_count": 50,
   "id": "2c8f3826-f4a1-4ad5-9d96-3df4dbdce5b8",
   "metadata": {},
   "outputs": [
    {
     "data": {
      "image/png": "[encoded data removed]",
      "text/plain": [
       "<Figure size 1152x576 with 3 Axes>"
      ]
     },
     "metadata": {
      "needs_background": "light"
     },
     "output_type": "display_data"
    }
   ],
   "source": [
    "fig = plt.figure(figsize=(16, 8))\n",
    "ax = fig.subplots(1, 3)\n",
    "\n",
    "\n",
    "titles = [\"cosine (embedding averaging)\", \"cosine (score averaging)\", \"spherical PLDA (by-the-book)\"]\n",
    "\n",
    "\n",
    "for idx, (scores_1vs1, scores_3vs1, scores_10vs1) in enumerate(outputs):\n",
    "    \n",
    "    if idx == 0:\n",
    "        ax[idx].set(xlim=(-0.2, 0.9))\n",
    "    elif idx == 1:\n",
    "        ax[idx].set(xlim=(-0.2, 0.75))\n",
    "    else:\n",
    "        ax[idx].set(xlim=(-350, 260))\n",
    "    \n",
    "    n_bins = 100\n",
    "    ax[idx].hist(scores_1vs1[labels_1vs1==1], bins=n_bins, color='c', density=True, alpha=0.3, label='tar 1');\n",
    "    ax[idx].hist(scores_3vs1[labels_3vs1==1], bins=n_bins, color='b', density=True, alpha=0.3, label='tar 3');\n",
    "    ax[idx].hist(scores_10vs1[labels_10vs1==1], bins=n_bins, color='k', density=True, alpha=0.3, label='tar 10');\n",
    "    ax[idx].hist(scores_1vs1[labels_1vs1==0], bins=n_bins, color='r', density=True, alpha=0.3, label='imp 1');\n",
    "    ax[idx].hist(scores_10vs1[labels_10vs1==0], bins=n_bins, color='m', density=True, alpha=0.3, label='imp 10');\n",
    "    ax[idx].set_title(titles[idx]);\n",
    "    ax[idx].legend();\n",
    "    \n",
    "    ax[idx].set_yticklabels([])\n",
    "    #ax[idx].set_xticklabels([])\n",
    "\n",
    "plt.subplots_adjust(wspace=0.05, hspace=0)\n",
    "\n",
    "plt.savefig(\"fig/clova_multienroll_hist.pdf\", bbox_inches=\"tight\", dpi=300)"
   ]
  },
  {
   "cell_type": "code",
   "execution_count": null,
   "id": "03e76062-40c7-411d-9f06-23447098145c",
   "metadata": {},
   "outputs": [],
   "source": []
  }
 ],
 "metadata": {
  "kernelspec": {
   "display_name": "Python 3",
   "language": "python",
   "name": "python3"
  },
  "language_info": {
   "codemirror_mode": {
    "name": "ipython",
    "version": 3
   },
   "file_extension": ".py",
   "mimetype": "text/x-python",
   "name": "python",
   "nbconvert_exporter": "python",
   "pygments_lexer": "ipython3",
   "version": "3.7.10"
  }
 },
 "nbformat": 4,
 "nbformat_minor": 5
}
